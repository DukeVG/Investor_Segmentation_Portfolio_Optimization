{
 "cells": [
  {
   "cell_type": "code",
   "execution_count": 2,
   "id": "b978a125",
   "metadata": {},
   "outputs": [
    {
     "name": "stdout",
     "output_type": "stream",
     "text": [
      "Collecting faker\n",
      "  Downloading Faker-33.3.1-py3-none-any.whl (1.9 MB)\n",
      "     ---------------------------------------- 1.9/1.9 MB 1.1 MB/s eta 0:00:00\n",
      "Requirement already satisfied: python-dateutil>=2.4 in c:\\users\\grove\\anaconda3\\lib\\site-packages (from faker) (2.8.2)\n",
      "Requirement already satisfied: typing-extensions in c:\\users\\grove\\anaconda3\\lib\\site-packages (from faker) (4.3.0)\n",
      "Requirement already satisfied: six>=1.5 in c:\\users\\grove\\anaconda3\\lib\\site-packages (from python-dateutil>=2.4->faker) (1.16.0)\n",
      "Installing collected packages: faker\n",
      "Successfully installed faker-33.3.1\n",
      "Note: you may need to restart the kernel to use updated packages.\n"
     ]
    }
   ],
   "source": [
    "pip install faker\n"
   ]
  },
  {
   "cell_type": "code",
   "execution_count": 3,
   "id": "3927f156",
   "metadata": {},
   "outputs": [
    {
     "name": "stdout",
     "output_type": "stream",
     "text": [
      "Requirement already satisfied: pandas in c:\\users\\grove\\anaconda3\\lib\\site-packages (1.4.4)\n",
      "Requirement already satisfied: pytz>=2020.1 in c:\\users\\grove\\anaconda3\\lib\\site-packages (from pandas) (2022.1)\n",
      "Requirement already satisfied: numpy>=1.18.5 in c:\\users\\grove\\anaconda3\\lib\\site-packages (from pandas) (1.21.5)\n",
      "Requirement already satisfied: python-dateutil>=2.8.1 in c:\\users\\grove\\anaconda3\\lib\\site-packages (from pandas) (2.8.2)\n",
      "Requirement already satisfied: six>=1.5 in c:\\users\\grove\\anaconda3\\lib\\site-packages (from python-dateutil>=2.8.1->pandas) (1.16.0)\n",
      "Note: you may need to restart the kernel to use updated packages.\n"
     ]
    }
   ],
   "source": [
    "pip install pandas"
   ]
  },
  {
   "cell_type": "code",
   "execution_count": 5,
   "id": "e0826607",
   "metadata": {},
   "outputs": [],
   "source": [
    "from faker import Faker\n",
    "import pandas as pd\n",
    "import random"
   ]
  },
  {
   "cell_type": "code",
   "execution_count": 6,
   "id": "8eb1e11c",
   "metadata": {},
   "outputs": [],
   "source": [
    "fake = Faker()\n",
    "\n"
   ]
  },
  {
   "cell_type": "code",
   "execution_count": 11,
   "id": "3dbc6c0f",
   "metadata": {},
   "outputs": [
    {
     "name": "stdout",
     "output_type": "stream",
     "text": [
      "Requirement already satisfied: openpyxl in c:\\users\\grove\\anaconda3\\lib\\site-packages (3.0.10)\n",
      "Requirement already satisfied: et_xmlfile in c:\\users\\grove\\anaconda3\\lib\\site-packages (from openpyxl) (1.1.0)\n",
      "Note: you may need to restart the kernel to use updated packages.\n"
     ]
    }
   ],
   "source": [
    "pip install openpyxl"
   ]
  },
  {
   "cell_type": "code",
   "execution_count": 16,
   "id": "e8a01591",
   "metadata": {},
   "outputs": [
    {
     "name": "stdout",
     "output_type": "stream",
     "text": [
      "                            Investor_ID          Name  Age           Country  \\\n",
      "0  56770435-d2cc-45c4-b523-07e0b94477bc  Brian Barnes   21  French Polynesia   \n",
      "1  7ac8d896-7050-40ab-9de5-84b6a7944890    Daniel Gay   39             Yemen   \n",
      "2  e81be279-3470-4607-9cdd-a490326f2168  Karen Santos   59       Netherlands   \n",
      "3  212405a7-04e2-4985-969f-4cf642be2f41    David Ball   20            Taiwan   \n",
      "4  f97ed116-6c81-4424-b22d-4b68277acc16  William West   36           Bermuda   \n",
      "\n",
      "  Income_Level Risk_Tolerance Preferred_Investment  Portfolio_Value  \\\n",
      "0       Medium         Medium       Cryptocurrency          6919165   \n",
      "1         High           High               Stocks          4246204   \n",
      "2       Medium            Low       Private Equity          1631655   \n",
      "3   Ultra-High           High          Real Estate            64866   \n",
      "4       Medium           High       Private Equity          6080170   \n",
      "\n",
      "   Risk_Adjusted_Returns (%) Liquidity_Preference    Net_Worth Date_Joined  \\\n",
      "0                  415149.90              Monthly  14598030.28  2020-08-03   \n",
      "1                  424620.40             Annually  11588004.27  2020-11-07   \n",
      "2                   48949.65                Daily   4154365.73  2020-05-12   \n",
      "3                    6486.60                Daily    120549.72  2024-01-09   \n",
      "4                  608017.00            Quarterly  12898795.59  2023-03-13   \n",
      "\n",
      "                         Email  \n",
      "0           eric66@example.net  \n",
      "1      philipperry@example.net  \n",
      "2          ttaylor@example.org  \n",
      "3         amynolan@example.com  \n",
      "4  ramirezcourtney@example.org  \n",
      "Data saved as both CSV and Excel!\n"
     ]
    },
    {
     "data": {
      "text/html": [
       "Path (<tt>advanced_synthetic_investor_data.xlsx</tt>) doesn't exist. It may still be in the process of being generated, or you may have the incorrect path."
      ],
      "text/plain": [
       "C:\\Users\\grove\\Desktop\\advanced_synthetic_investor_data.xlsx"
      ]
     },
     "execution_count": 16,
     "metadata": {},
     "output_type": "execute_result"
    }
   ],
   "source": [
    "from IPython.display import FileLink\n",
    "from faker import Faker\n",
    "import pandas as pd\n",
    "import random\n",
    "\n",
    "\n",
    "fake = Faker()\n",
    "\n",
    "\n",
    "num_records = 100\n",
    "\n",
    "\n",
    "data = []\n",
    "for _ in range(num_records):\n",
    "    age = fake.random_int(min=18, max=80)\n",
    "    income_level = fake.random_element(elements=[\"Low\", \"Medium\", \"High\", \"Ultra-High\"])\n",
    "    risk_tolerance = fake.random_element(elements=[\"Low\", \"Medium\", \"High\"])\n",
    "    portfolio_value = round(fake.random_number(digits=7, fix_len=False), 2)\n",
    "    preferred_investment = fake.random_element(elements=[\"Real Estate\", \"Hedge Funds\", \"Private Equity\", \"Cryptocurrency\", \"Stocks\"])\n",
    "    liquidity_preference = fake.random_element(elements=[\"Daily\", \"Monthly\", \"Quarterly\", \"Annually\"])\n",
    "    country = fake.country()\n",
    "\n",
    " \n",
    "    risk_multiplier = {\"Low\": 0.03, \"Medium\": 0.06, \"High\": 0.10}\n",
    "    risk_adjusted_returns = round(portfolio_value * risk_multiplier[risk_tolerance], 2)\n",
    "\n",
    "    # Add calculated Net Worth (based on portfolio value and a random multiplier)\n",
    "    net_worth = round(portfolio_value * random.uniform(1.5, 3.0), 2)\n",
    "\n",
    "   \n",
    "    record = {\n",
    "        \"Investor_ID\": fake.unique.uuid4(),\n",
    "        \"Name\": fake.name(),\n",
    "        \"Age\": age,\n",
    "        \"Country\": country,\n",
    "        \"Income_Level\": income_level,\n",
    "        \"Risk_Tolerance\": risk_tolerance,\n",
    "        \"Preferred_Investment\": preferred_investment,\n",
    "        \"Portfolio_Value\": portfolio_value,\n",
    "        \"Risk_Adjusted_Returns (%)\": risk_adjusted_returns,\n",
    "        \"Liquidity_Preference\": liquidity_preference,\n",
    "        \"Net_Worth\": net_worth,\n",
    "        \"Date_Joined\": fake.date_this_decade(before_today=True, after_today=False),\n",
    "        \"Email\": fake.email(),\n",
    "    }\n",
    "    data.append(record)\n",
    "\n",
    "\n",
    "df = pd.DataFrame(data)\n",
    "\n",
    "\n",
    "print(df.head())\n",
    "\n",
    "# Save the DataFrame to a CSV file\n",
    "df.to_csv(\"advanced_synthetic_investor_data.csv\", index=False)\n",
    "\n",
    "df.to_excel(\"advanced_systhetic_investor_data.xlsx\", index=False, engine='openpyxl')\n",
    "\n",
    "print(\"Data saved as both CSV and Excel!\")\n",
    "\n",
    "FileLink(\"advanced_synthetic_investor_data.xlsx\")\n",
    "\n"
   ]
  },
  {
   "cell_type": "code",
   "execution_count": null,
   "id": "622f8860",
   "metadata": {},
   "outputs": [],
   "source": []
  }
 ],
 "metadata": {
  "kernelspec": {
   "display_name": "Python 3 (ipykernel)",
   "language": "python",
   "name": "python3"
  },
  "language_info": {
   "codemirror_mode": {
    "name": "ipython",
    "version": 3
   },
   "file_extension": ".py",
   "mimetype": "text/x-python",
   "name": "python",
   "nbconvert_exporter": "python",
   "pygments_lexer": "ipython3",
   "version": "3.9.13"
  }
 },
 "nbformat": 4,
 "nbformat_minor": 5
}
