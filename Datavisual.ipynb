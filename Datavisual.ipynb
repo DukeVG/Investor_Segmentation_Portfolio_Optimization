{
 "cells": [
  {
   "cell_type": "markdown",
   "id": "5a917016",
   "metadata": {},
   "source": [
    "# DATA VISUALIZATION"
   ]
  },
  {
   "cell_type": "code",
   "execution_count": 1,
   "id": "0dc85bcb",
   "metadata": {},
   "outputs": [
    {
     "name": "stdout",
     "output_type": "stream",
     "text": [
      "Collecting jupyter-dash\n",
      "  Downloading jupyter_dash-0.4.2-py3-none-any.whl (23 kB)\n",
      "Requirement already satisfied: nest-asyncio in c:\\users\\grove\\anaconda3\\lib\\site-packages (from jupyter-dash) (1.5.5)\n",
      "Requirement already satisfied: flask in c:\\users\\grove\\anaconda3\\lib\\site-packages (from jupyter-dash) (1.1.2)\n",
      "Collecting retrying\n",
      "  Downloading retrying-1.3.4-py3-none-any.whl (11 kB)\n",
      "Collecting dash\n",
      "  Downloading dash-2.18.2-py3-none-any.whl (7.8 MB)\n",
      "     ---------------------------------------- 7.8/7.8 MB 3.0 MB/s eta 0:00:00\n",
      "Requirement already satisfied: ipykernel in c:\\users\\grove\\anaconda3\\lib\\site-packages (from jupyter-dash) (6.15.2)\n",
      "Requirement already satisfied: requests in c:\\users\\grove\\anaconda3\\lib\\site-packages (from jupyter-dash) (2.28.1)\n",
      "Collecting ansi2html\n",
      "  Downloading ansi2html-1.9.2-py3-none-any.whl (17 kB)\n",
      "Requirement already satisfied: ipython in c:\\users\\grove\\anaconda3\\lib\\site-packages (from jupyter-dash) (7.31.1)\n",
      "Collecting dash-html-components==2.0.0\n",
      "  Downloading dash_html_components-2.0.0-py3-none-any.whl (4.1 kB)\n",
      "Requirement already satisfied: setuptools in c:\\users\\grove\\anaconda3\\lib\\site-packages (from dash->jupyter-dash) (63.4.1)\n",
      "Collecting dash-table==5.0.0\n",
      "  Downloading dash_table-5.0.0-py3-none-any.whl (3.9 kB)\n",
      "Requirement already satisfied: typing-extensions>=4.1.1 in c:\\users\\grove\\anaconda3\\lib\\site-packages (from dash->jupyter-dash) (4.3.0)\n",
      "Requirement already satisfied: plotly>=5.0.0 in c:\\users\\grove\\anaconda3\\lib\\site-packages (from dash->jupyter-dash) (5.9.0)\n",
      "Requirement already satisfied: importlib-metadata in c:\\users\\grove\\anaconda3\\lib\\site-packages (from dash->jupyter-dash) (4.11.3)\n",
      "Requirement already satisfied: Werkzeug<3.1 in c:\\users\\grove\\anaconda3\\lib\\site-packages (from dash->jupyter-dash) (2.0.3)\n",
      "Collecting dash-core-components==2.0.0\n",
      "  Downloading dash_core_components-2.0.0-py3-none-any.whl (3.8 kB)\n",
      "Requirement already satisfied: click>=5.1 in c:\\users\\grove\\anaconda3\\lib\\site-packages (from flask->jupyter-dash) (8.0.4)\n",
      "Requirement already satisfied: itsdangerous>=0.24 in c:\\users\\grove\\anaconda3\\lib\\site-packages (from flask->jupyter-dash) (2.0.1)\n",
      "Requirement already satisfied: Jinja2>=2.10.1 in c:\\users\\grove\\anaconda3\\lib\\site-packages (from flask->jupyter-dash) (2.11.3)\n",
      "Requirement already satisfied: tornado>=6.1 in c:\\users\\grove\\anaconda3\\lib\\site-packages (from ipykernel->jupyter-dash) (6.1)\n",
      "Requirement already satisfied: matplotlib-inline>=0.1 in c:\\users\\grove\\anaconda3\\lib\\site-packages (from ipykernel->jupyter-dash) (0.1.6)\n",
      "Requirement already satisfied: jupyter-client>=6.1.12 in c:\\users\\grove\\anaconda3\\lib\\site-packages (from ipykernel->jupyter-dash) (7.3.4)\n",
      "Requirement already satisfied: packaging in c:\\users\\grove\\anaconda3\\lib\\site-packages (from ipykernel->jupyter-dash) (21.3)\n",
      "Requirement already satisfied: pyzmq>=17 in c:\\users\\grove\\anaconda3\\lib\\site-packages (from ipykernel->jupyter-dash) (23.2.0)\n",
      "Requirement already satisfied: traitlets>=5.1.0 in c:\\users\\grove\\anaconda3\\lib\\site-packages (from ipykernel->jupyter-dash) (5.1.1)\n",
      "Requirement already satisfied: debugpy>=1.0 in c:\\users\\grove\\anaconda3\\lib\\site-packages (from ipykernel->jupyter-dash) (1.5.1)\n",
      "Requirement already satisfied: psutil in c:\\users\\grove\\anaconda3\\lib\\site-packages (from ipykernel->jupyter-dash) (5.9.0)\n",
      "Requirement already satisfied: backcall in c:\\users\\grove\\anaconda3\\lib\\site-packages (from ipython->jupyter-dash) (0.2.0)\n",
      "Requirement already satisfied: pygments in c:\\users\\grove\\anaconda3\\lib\\site-packages (from ipython->jupyter-dash) (2.11.2)\n",
      "Requirement already satisfied: decorator in c:\\users\\grove\\anaconda3\\lib\\site-packages (from ipython->jupyter-dash) (5.1.1)\n",
      "Requirement already satisfied: pickleshare in c:\\users\\grove\\anaconda3\\lib\\site-packages (from ipython->jupyter-dash) (0.7.5)\n",
      "Requirement already satisfied: jedi>=0.16 in c:\\users\\grove\\anaconda3\\lib\\site-packages (from ipython->jupyter-dash) (0.18.1)\n",
      "Requirement already satisfied: prompt-toolkit!=3.0.0,!=3.0.1,<3.1.0,>=2.0.0 in c:\\users\\grove\\anaconda3\\lib\\site-packages (from ipython->jupyter-dash) (3.0.20)\n",
      "Requirement already satisfied: colorama in c:\\users\\grove\\anaconda3\\lib\\site-packages (from ipython->jupyter-dash) (0.4.5)\n",
      "Requirement already satisfied: certifi>=2017.4.17 in c:\\users\\grove\\anaconda3\\lib\\site-packages (from requests->jupyter-dash) (2022.9.14)\n",
      "Requirement already satisfied: idna<4,>=2.5 in c:\\users\\grove\\anaconda3\\lib\\site-packages (from requests->jupyter-dash) (3.3)\n",
      "Requirement already satisfied: charset-normalizer<3,>=2 in c:\\users\\grove\\anaconda3\\lib\\site-packages (from requests->jupyter-dash) (2.0.4)\n",
      "Requirement already satisfied: urllib3<1.27,>=1.21.1 in c:\\users\\grove\\anaconda3\\lib\\site-packages (from requests->jupyter-dash) (1.26.11)\n",
      "Requirement already satisfied: six>=1.7.0 in c:\\users\\grove\\anaconda3\\lib\\site-packages (from retrying->jupyter-dash) (1.16.0)\n",
      "Requirement already satisfied: parso<0.9.0,>=0.8.0 in c:\\users\\grove\\anaconda3\\lib\\site-packages (from jedi>=0.16->ipython->jupyter-dash) (0.8.3)\n",
      "Requirement already satisfied: MarkupSafe>=0.23 in c:\\users\\grove\\anaconda3\\lib\\site-packages (from Jinja2>=2.10.1->flask->jupyter-dash) (2.0.1)\n",
      "Requirement already satisfied: jupyter-core>=4.9.2 in c:\\users\\grove\\anaconda3\\lib\\site-packages (from jupyter-client>=6.1.12->ipykernel->jupyter-dash) (4.11.1)\n",
      "Requirement already satisfied: entrypoints in c:\\users\\grove\\anaconda3\\lib\\site-packages (from jupyter-client>=6.1.12->ipykernel->jupyter-dash) (0.4)\n",
      "Requirement already satisfied: python-dateutil>=2.8.2 in c:\\users\\grove\\anaconda3\\lib\\site-packages (from jupyter-client>=6.1.12->ipykernel->jupyter-dash) (2.8.2)\n",
      "Requirement already satisfied: tenacity>=6.2.0 in c:\\users\\grove\\anaconda3\\lib\\site-packages (from plotly>=5.0.0->dash->jupyter-dash) (8.0.1)\n",
      "Requirement already satisfied: wcwidth in c:\\users\\grove\\anaconda3\\lib\\site-packages (from prompt-toolkit!=3.0.0,!=3.0.1,<3.1.0,>=2.0.0->ipython->jupyter-dash) (0.2.5)\n",
      "Requirement already satisfied: zipp>=0.5 in c:\\users\\grove\\anaconda3\\lib\\site-packages (from importlib-metadata->dash->jupyter-dash) (3.8.0)\n",
      "Requirement already satisfied: pyparsing!=3.0.5,>=2.0.2 in c:\\users\\grove\\anaconda3\\lib\\site-packages (from packaging->ipykernel->jupyter-dash) (3.0.9)\n",
      "Requirement already satisfied: pywin32>=1.0 in c:\\users\\grove\\anaconda3\\lib\\site-packages (from jupyter-core>=4.9.2->jupyter-client>=6.1.12->ipykernel->jupyter-dash) (302)\n",
      "Installing collected packages: dash-table, dash-html-components, dash-core-components, retrying, ansi2html, dash, jupyter-dash\n",
      "Successfully installed ansi2html-1.9.2 dash-2.18.2 dash-core-components-2.0.0 dash-html-components-2.0.0 dash-table-5.0.0 jupyter-dash-0.4.2 retrying-1.3.4\n",
      "Note: you may need to restart the kernel to use updated packages.\n"
     ]
    }
   ],
   "source": [
    "pip install jupyter-dash\n"
   ]
  },
  {
   "cell_type": "code",
   "execution_count": 2,
   "id": "1daaebfa",
   "metadata": {},
   "outputs": [
    {
     "name": "stdout",
     "output_type": "stream",
     "text": [
      "Requirement already satisfied: dash in c:\\users\\grove\\anaconda3\\lib\\site-packages (2.18.2)\n",
      "Requirement already satisfied: nest-asyncio in c:\\users\\grove\\anaconda3\\lib\\site-packages (from dash) (1.5.5)\n",
      "Requirement already satisfied: Werkzeug<3.1 in c:\\users\\grove\\anaconda3\\lib\\site-packages (from dash) (2.0.3)\n",
      "Requirement already satisfied: setuptools in c:\\users\\grove\\anaconda3\\lib\\site-packages (from dash) (63.4.1)\n",
      "Requirement already satisfied: retrying in c:\\users\\grove\\anaconda3\\lib\\site-packages (from dash) (1.3.4)\n",
      "Requirement already satisfied: dash-core-components==2.0.0 in c:\\users\\grove\\anaconda3\\lib\\site-packages (from dash) (2.0.0)\n",
      "Requirement already satisfied: Flask<3.1,>=1.0.4 in c:\\users\\grove\\anaconda3\\lib\\site-packages (from dash) (1.1.2)\n",
      "Requirement already satisfied: dash-html-components==2.0.0 in c:\\users\\grove\\anaconda3\\lib\\site-packages (from dash) (2.0.0)\n",
      "Requirement already satisfied: importlib-metadata in c:\\users\\grove\\anaconda3\\lib\\site-packages (from dash) (4.11.3)\n",
      "Requirement already satisfied: requests in c:\\users\\grove\\anaconda3\\lib\\site-packages (from dash) (2.28.1)\n",
      "Requirement already satisfied: typing-extensions>=4.1.1 in c:\\users\\grove\\anaconda3\\lib\\site-packages (from dash) (4.3.0)\n",
      "Requirement already satisfied: dash-table==5.0.0 in c:\\users\\grove\\anaconda3\\lib\\site-packages (from dash) (5.0.0)\n",
      "Requirement already satisfied: plotly>=5.0.0 in c:\\users\\grove\\anaconda3\\lib\\site-packages (from dash) (5.9.0)\n",
      "Requirement already satisfied: Jinja2>=2.10.1 in c:\\users\\grove\\anaconda3\\lib\\site-packages (from Flask<3.1,>=1.0.4->dash) (2.11.3)\n",
      "Requirement already satisfied: click>=5.1 in c:\\users\\grove\\anaconda3\\lib\\site-packages (from Flask<3.1,>=1.0.4->dash) (8.0.4)\n",
      "Requirement already satisfied: itsdangerous>=0.24 in c:\\users\\grove\\anaconda3\\lib\\site-packages (from Flask<3.1,>=1.0.4->dash) (2.0.1)\n",
      "Requirement already satisfied: tenacity>=6.2.0 in c:\\users\\grove\\anaconda3\\lib\\site-packages (from plotly>=5.0.0->dash) (8.0.1)\n",
      "Requirement already satisfied: zipp>=0.5 in c:\\users\\grove\\anaconda3\\lib\\site-packages (from importlib-metadata->dash) (3.8.0)\n",
      "Requirement already satisfied: certifi>=2017.4.17 in c:\\users\\grove\\anaconda3\\lib\\site-packages (from requests->dash) (2022.9.14)\n",
      "Requirement already satisfied: idna<4,>=2.5 in c:\\users\\grove\\anaconda3\\lib\\site-packages (from requests->dash) (3.3)\n",
      "Requirement already satisfied: charset-normalizer<3,>=2 in c:\\users\\grove\\anaconda3\\lib\\site-packages (from requests->dash) (2.0.4)\n",
      "Requirement already satisfied: urllib3<1.27,>=1.21.1 in c:\\users\\grove\\anaconda3\\lib\\site-packages (from requests->dash) (1.26.11)\n",
      "Requirement already satisfied: six>=1.7.0 in c:\\users\\grove\\anaconda3\\lib\\site-packages (from retrying->dash) (1.16.0)\n",
      "Requirement already satisfied: colorama in c:\\users\\grove\\anaconda3\\lib\\site-packages (from click>=5.1->Flask<3.1,>=1.0.4->dash) (0.4.5)\n",
      "Requirement already satisfied: MarkupSafe>=0.23 in c:\\users\\grove\\anaconda3\\lib\\site-packages (from Jinja2>=2.10.1->Flask<3.1,>=1.0.4->dash) (2.0.1)\n",
      "Note: you may need to restart the kernel to use updated packages.\n"
     ]
    }
   ],
   "source": [
    "pip install dash"
   ]
  },
  {
   "cell_type": "code",
   "execution_count": 4,
   "id": "fd16f295",
   "metadata": {},
   "outputs": [
    {
     "name": "stdout",
     "output_type": "stream",
     "text": [
      "Requirement already satisfied: plotly in c:\\users\\grove\\anaconda3\\lib\\site-packages (5.9.0)\n",
      "Requirement already satisfied: tenacity>=6.2.0 in c:\\users\\grove\\anaconda3\\lib\\site-packages (from plotly) (8.0.1)\n",
      "Note: you may need to restart the kernel to use updated packages.\n"
     ]
    }
   ],
   "source": [
    "pip install plotly"
   ]
  },
  {
   "cell_type": "code",
   "execution_count": 5,
   "id": "793dd596",
   "metadata": {},
   "outputs": [
    {
     "data": {
      "text/html": [
       "\n",
       "        <iframe\n",
       "            width=\"100%\"\n",
       "            height=\"650\"\n",
       "            src=\"http://127.0.0.1:8050/\"\n",
       "            frameborder=\"0\"\n",
       "            allowfullscreen\n",
       "            \n",
       "        ></iframe>\n",
       "        "
      ],
      "text/plain": [
       "<IPython.lib.display.IFrame at 0x22487ff7880>"
      ]
     },
     "metadata": {},
     "output_type": "display_data"
    }
   ],
   "source": [
    "from dash import Dash, dcc, html, Input, Output\n",
    "import plotly.express as px\n",
    "import pandas as pd\n",
    "\n",
    "# Load the data\n",
    "data = pd.read_csv(r\"C:\\Users\\grove\\Desktop\\updated_investor_data.csv\")\n",
    "\n",
    "# Initialize the Dash app\n",
    "app = Dash(__name__)\n",
    "\n",
    "# Layout for the dashboard\n",
    "app.layout = html.Div([\n",
    "    html.H1(\"Investment Dashboard\", style={\"textAlign\": \"center\"}),\n",
    "\n",
    "    # Dropdown for segmentation insights\n",
    "    html.Div([\n",
    "        html.Label(\"Select Segmentation Feature:\"),\n",
    "        dcc.Dropdown(\n",
    "            id='segmentation-dropdown',\n",
    "            options=[\n",
    "                {\"label\": \"Age Group\", \"value\": \"Age_Group\"},\n",
    "                {\"label\": \"Income Level\", \"value\": \"Income_Level\"},\n",
    "                {\"label\": \"Risk Tolerance\", \"value\": \"Risk_Tolerance\"},\n",
    "                {\"label\": \"Preferred Investment\", \"value\": \"Preferred_Investment\"}\n",
    "            ],\n",
    "            value=\"Age_Group\"\n",
    "        )\n",
    "    ]),\n",
    "    dcc.Graph(id='segmentation-graph'),\n",
    "\n",
    "    # Investment recommendations\n",
    "    html.Div([\n",
    "        html.Label(\"Preferred Investment Type:\"),\n",
    "        dcc.Dropdown(\n",
    "            id='investment-type-dropdown',\n",
    "            options=[\n",
    "                {\"label\": inv, \"value\": inv} for inv in data['Preferred_Investment'].unique()\n",
    "            ],\n",
    "            value=data['Preferred_Investment'].unique()[0]\n",
    "        )\n",
    "    ]),\n",
    "    dcc.Graph(id='investment-recommendation-graph'),\n",
    "\n",
    "    # Portfolio performance monitoring\n",
    "    html.Div([\n",
    "        html.H3(\"Portfolio Performance and Liquidity\", style={\"textAlign\": \"center\"}),\n",
    "        dcc.Graph(id='portfolio-performance-graph',\n",
    "                  figure=px.scatter(\n",
    "                      data,\n",
    "                      x=\"Portfolio_to_Net_Worth_Ratio\",\n",
    "                      y=\"Risk_Adjusted_Returns_(Percent)\",\n",
    "                      color=\"Liquidity_Preference\",\n",
    "                      size=\"Portfolio_Value\",\n",
    "                      hover_data=['Name'],\n",
    "                      title=\"Portfolio Performance by Liquidity Preference\"\n",
    "                  ))\n",
    "    ])\n",
    "])\n",
    "\n",
    "# Callback for segmentation insights\n",
    "@app.callback(\n",
    "    Output('segmentation-graph', 'figure'),\n",
    "    Input('segmentation-dropdown', 'value')\n",
    ")\n",
    "def update_segmentation_graph(feature):\n",
    "    fig = px.histogram(\n",
    "        data, \n",
    "        x=feature, \n",
    "        color=\"Risk_Tolerance\",\n",
    "        barmode='group',\n",
    "        title=f\"Segmentation Insights by {feature}\"\n",
    "    )\n",
    "    return fig\n",
    "\n",
    "\n",
    "@app.callback(\n",
    "    Output('investment-recommendation-graph', 'figure'),\n",
    "    Input('investment-type-dropdown', 'value')\n",
    ")\n",
    "def update_investment_graph(investment_type):\n",
    "    filtered_data = data[data['Preferred_Investment'] == investment_type]\n",
    "    fig = px.bar(\n",
    "        filtered_data,\n",
    "        x=\"Name\",\n",
    "        y=\"Risk_Adjusted_Returns_(Percent)\",\n",
    "        color=\"Risk_Tolerance\",\n",
    "        title=f\"Investment Recommendations for {investment_type}\"\n",
    "    )\n",
    "    return fig\n",
    "\n",
    "if __name__ == '__main__':\n",
    "    app.run_server(debug=True)\n"
   ]
  },
  {
   "cell_type": "markdown",
   "id": "e5bc6eae",
   "metadata": {},
   "source": [
    "# The END"
   ]
  }
 ],
 "metadata": {
  "kernelspec": {
   "display_name": "Python 3 (ipykernel)",
   "language": "python",
   "name": "python3"
  },
  "language_info": {
   "codemirror_mode": {
    "name": "ipython",
    "version": 3
   },
   "file_extension": ".py",
   "mimetype": "text/x-python",
   "name": "python",
   "nbconvert_exporter": "python",
   "pygments_lexer": "ipython3",
   "version": "3.9.13"
  }
 },
 "nbformat": 4,
 "nbformat_minor": 5
}
